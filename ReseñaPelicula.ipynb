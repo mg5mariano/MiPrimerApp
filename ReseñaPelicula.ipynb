{
  "nbformat": 4,
  "nbformat_minor": 0,
  "metadata": {
    "colab": {
      "private_outputs": true,
      "provenance": [],
      "authorship_tag": "ABX9TyNfTrXhgJQKdG3N0zxg5/Vy",
      "include_colab_link": true
    },
    "kernelspec": {
      "name": "python3",
      "display_name": "Python 3"
    },
    "language_info": {
      "name": "python"
    }
  },
  "cells": [
    {
      "cell_type": "markdown",
      "metadata": {
        "id": "view-in-github",
        "colab_type": "text"
      },
      "source": [
        "<a href=\"https://colab.research.google.com/github/mg5mariano/MiPrimerApp/blob/main/Rese%C3%B1aPelicula.ipynb\" target=\"_parent\"><img src=\"https://colab.research.google.com/assets/colab-badge.svg\" alt=\"Open In Colab\"/></a>"
      ]
    },
    {
      "cell_type": "code",
      "execution_count": null,
      "metadata": {
        "id": "q5_FOUy9C-CJ"
      },
      "outputs": [],
      "source": [
        "import nltk\n",
        "from nltk.corpus import movie_reviews, stopwords\n",
        "from nltk.tokenize import word_tokenize\n",
        "import random\n",
        "import re\n",
        "\n",
        "from sklearn.model_selection import train_test_split\n",
        "from sklearn.pipeline import Pipeline\n",
        "from sklearn.feature_extraction.text import CountVectorizer, TfidfVectorizer\n",
        "from sklearn.naive_bayes import MultinomialNB\n",
        "from sklearn.linear_model import LogisticRegression\n",
        "from sklearn.metrics import accuracy_score, precision_score, recall_score, f1_score, classification_report, confusion_matrix\n",
        "\n",
        "import matplotlib.pyplot as plt\n",
        "import numpy as np\n",
        "\n",
        "nltk.download('punkt')\n",
        "nltk.download('stopwords')\n",
        "nltk.download('movie_reviews')\n",
        "nltk.download('punkt_tab')"
      ]
    },
    {
      "cell_type": "code",
      "source": [
        "fileids = movie_reviews.fileids()\n",
        "texts = []\n",
        "labels = []\n",
        "\n",
        "for fid in fileids:\n",
        "    texts.append(movie_reviews.raw(fid))\n",
        "    labels.append(1 if movie_reviews.categories(fid)[0] == 'pos' else 0)\n",
        "\n",
        "print(\"Total documentos:\", len(texts))\n",
        "print(\"Ejemplo (primer doc, categoría):\", movie_reviews.categories(fileids[0]))\n",
        "print(texts[0][:400], \"...\\n\")\n"
      ],
      "metadata": {
        "id": "p7P35o6wDTGG"
      },
      "execution_count": null,
      "outputs": []
    },
    {
      "cell_type": "code",
      "source": [
        "stop_words = set(stopwords.words('english'))\n",
        "\n",
        "def preprocess_text_eng(text):\n",
        "    text = text.lower()\n",
        "    text = re.sub(r'[^a-z\\s]', ' ', text)\n",
        "    tokens = word_tokenize(text)\n",
        "    tokens = [t for t in tokens if t not in stop_words and len(t) > 1]\n",
        "    return \" \".join(tokens)\n",
        "\n",
        "texts_proc = [preprocess_text_eng(t) for t in texts]\n",
        "\n",
        "print(\"ORIGINAL (recortado):\\n\", texts[0][:250], \"...\\n\")\n",
        "print(\"PROCESADO (recortado):\\n\", texts_proc[0][:250], \"...\\n\")"
      ],
      "metadata": {
        "id": "6JFl04sBFR21"
      },
      "execution_count": null,
      "outputs": []
    },
    {
      "cell_type": "code",
      "source": [
        "X_train, X_test, y_train, y_test = train_test_split(\n",
        "    texts_proc, labels, test_size=0.2, random_state=42, stratify=labels\n",
        ")\n",
        "\n",
        "print(\"Entrenamiento:\", len(X_train), \" Prueba:\", len(X_test))\n",
        "print(\"Distribución train:\", sum(y_train), \"positivos de\", len(y_train))\n",
        "print(\"Distribución test:\", sum(y_test), \"positivos de\", len(y_test))\n"
      ],
      "metadata": {
        "id": "mTtcWA9sFiik"
      },
      "execution_count": null,
      "outputs": []
    },
    {
      "cell_type": "code",
      "source": [
        "pipe_nb = Pipeline([\n",
        "    ('vect', CountVectorizer()),\n",
        "    ('clf', MultinomialNB())\n",
        "])\n",
        "\n",
        "pipe_nb.fit(X_train, y_train)\n",
        "y_pred_nb = pipe_nb.predict(X_test)\n"
      ],
      "metadata": {
        "id": "N4dIwKUAFoS6"
      },
      "execution_count": null,
      "outputs": []
    },
    {
      "cell_type": "code",
      "source": [
        "pipe_lr = Pipeline([\n",
        "    ('tfidf', TfidfVectorizer()),\n",
        "    ('clf', LogisticRegression(max_iter=1000))\n",
        "])\n",
        "\n",
        "pipe_lr.fit(X_train, y_train)\n",
        "y_pred_lr = pipe_lr.predict(X_test)\n"
      ],
      "metadata": {
        "id": "DuCMCZkzFsfN"
      },
      "execution_count": null,
      "outputs": []
    },
    {
      "cell_type": "code",
      "source": [
        "def evaluar_modelo(y_true, y_pred, nombre=\"Modelo\"):\n",
        "    print(f\"--- {nombre} ---\")\n",
        "    print(\"Accuracy :\", accuracy_score(y_true, y_pred))\n",
        "    print(\"Precision:\", precision_score(y_true, y_pred, zero_division=0))\n",
        "    print(\"Recall   :\", recall_score(y_true, y_pred, zero_division=0))\n",
        "    print(\"F1 score :\", f1_score(y_true, y_pred, zero_division=0))\n",
        "    print(\"\\nClassification report:\\n\", classification_report(y_true, y_pred, zero_division=0))\n",
        "    cm = confusion_matrix(y_true, y_pred)\n",
        "    print(\"Confusion matrix:\\n\", cm)\n",
        "    return cm\n",
        "\n",
        "cm_nb = evaluar_modelo(y_test, y_pred_nb, \"CountVectorizer + MultinomialNB\")\n",
        "cm_lr = evaluar_modelo(y_test, y_pred_lr, \"TfidfVectorizer + LogisticRegression\")\n"
      ],
      "metadata": {
        "id": "ITrwZjsGFwde"
      },
      "execution_count": null,
      "outputs": []
    },
    {
      "cell_type": "code",
      "source": [
        "def plot_confusion(cm, title):\n",
        "    plt.figure(figsize=(4,4))\n",
        "    plt.imshow(cm, interpolation='nearest', cmap='Blues')\n",
        "    plt.title(title)\n",
        "    plt.xlabel('Predicho')\n",
        "    plt.ylabel('Real')\n",
        "    ticks = np.arange(2)\n",
        "    plt.xticks(ticks, ['Neg', 'Pos'])\n",
        "    plt.yticks(ticks, ['Neg', 'Pos'])\n",
        "    for i in range(cm.shape[0]):\n",
        "        for j in range(cm.shape[1]):\n",
        "            plt.text(j, i, cm[i, j], ha='center', va='center', color='black')\n",
        "    plt.colorbar()\n",
        "    plt.show()\n",
        "\n",
        "plot_confusion(cm_nb, \"Confusion - NB\")\n",
        "plot_confusion(cm_lr, \"Confusion - LR\")\n"
      ],
      "metadata": {
        "id": "X2iKS8IOF3xf"
      },
      "execution_count": null,
      "outputs": []
    },
    {
      "cell_type": "code",
      "source": [
        "def mostrar_errores(X_test_raw, X_test_proc, y_true, y_pred, n=6):\n",
        "    errores_idx = [i for i,(t,p) in enumerate(zip(y_true,y_pred)) if t!=p]\n",
        "    print(f\"Total errores: {len(errores_idx)}. Mostrando hasta {n} ejemplos:\\n\")\n",
        "    for i in errores_idx[:n]:\n",
        "        print(\"Índice:\", i)\n",
        "        print(\"Etiqueta real:\", y_true[i], \"Predicha:\", y_pred[i])\n",
        "        print(\"Texto procesado (recortado):\", X_test_proc[i][:400])\n",
        "        print(\"------\\n\")\n",
        "\n",
        "mostrar_errores(None, X_test, y_test, y_pred_lr, n=6)\n"
      ],
      "metadata": {
        "id": "JHzs-YHJF7q7"
      },
      "execution_count": null,
      "outputs": []
    }
  ]
}